{
 "cells": [
  {
   "cell_type": "markdown",
   "id": "d76f343e-2dda-45be-a788-b15df9e4967a",
   "metadata": {},
   "source": [
    "### Imports"
   ]
  },
  {
   "cell_type": "code",
   "execution_count": 1,
   "id": "c2d1ee96-75a8-4e93-8fb7-064e976a1110",
   "metadata": {},
   "outputs": [],
   "source": [
    "import mlflow\n",
    "import random"
   ]
  },
  {
   "cell_type": "markdown",
   "id": "1667a0b1-391c-499c-a7fc-8e3126989741",
   "metadata": {},
   "source": [
    "### Première expérimentation"
   ]
  },
  {
   "cell_type": "code",
   "execution_count": 2,
   "id": "c760a7aa-bbe7-4619-910d-f733eacab8de",
   "metadata": {},
   "outputs": [
    {
     "name": "stderr",
     "output_type": "stream",
     "text": [
      "2025/08/08 18:18:49 INFO mlflow.tracking.fluent: Experiment with name 'mon_experience_test2' does not exist. Creating a new experiment.\n"
     ]
    }
   ],
   "source": [
    "mlflow.set_tracking_uri(\"file:///C:/Users/Fab/Documents/Projet_6_Initiation_MLOps/mlruns\")\n",
    "mlflow.set_experiment(\"mon_experience_test2\")\n",
    "\n",
    "with mlflow.start_run():\n",
    "    mlflow.log_param(\"param_alpha\", random.uniform(0.01, 1.0))\n",
    "    mlflow.log_metric(\"accuracy\", random.uniform(0.8, 0.95))"
   ]
  },
  {
   "cell_type": "code",
   "execution_count": null,
   "id": "9a31ef49-353b-4f04-85aa-72c5f32bab3e",
   "metadata": {},
   "outputs": [],
   "source": []
  }
 ],
 "metadata": {
  "kernelspec": {
   "display_name": "Python 3 (ipykernel)",
   "language": "python",
   "name": "python3"
  },
  "language_info": {
   "codemirror_mode": {
    "name": "ipython",
    "version": 3
   },
   "file_extension": ".py",
   "mimetype": "text/x-python",
   "name": "python",
   "nbconvert_exporter": "python",
   "pygments_lexer": "ipython3",
   "version": "3.12.3"
  }
 },
 "nbformat": 4,
 "nbformat_minor": 5
}
